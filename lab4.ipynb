{
 "cells": [
  {
   "cell_type": "markdown",
   "metadata": {},
   "source": [
    "# Laboratorio 4 - Familias de Malware\n",
    "### Universidad del Valle de Guatemala\n",
    "### Security Data Science\n",
    "\n",
    "Andrés de la Roca - 20332"
   ]
  }
 ],
 "metadata": {
  "language_info": {
   "name": "python"
  }
 },
 "nbformat": 4,
 "nbformat_minor": 2
}
